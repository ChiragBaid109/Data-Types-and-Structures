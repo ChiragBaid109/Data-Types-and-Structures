{
  "nbformat": 4,
  "nbformat_minor": 0,
  "metadata": {
    "colab": {
      "provenance": []
    },
    "kernelspec": {
      "name": "python3",
      "display_name": "Python 3"
    },
    "language_info": {
      "name": "python"
    }
  },
  "cells": [
    {
      "cell_type": "markdown",
      "source": [
        "Q1) What are data structures, and why are they important?\n",
        "\n",
        "ans-Data structures are fundamental ways of organizing and storing data for efficient access and manipulation within computer programs\n",
        "\n",
        "Q2) Explain the difference between mutable and immutable data types with examples?\n",
        "\n",
        "ans- Mutuable data types- The data which can be modified after creation\n",
        "examples-Lists,Dictinaries\n",
        "\n",
        "Immutubale data types- The data which cannot be modified after creation\n",
        "examples-Strings,Tuples\n",
        "\n",
        "Q3) What are the main differences between lists and tuples in Python?\n",
        "\n",
        "ans-The main difference between the lists and tuples is that lists are mutubale data type which can be modidfied but on other hand tuples are immutuable data types which cannot be modified.\n",
        "\n",
        "Q4) Describe how dictionaries store data?\n",
        "\n",
        "ans- In dictionaries data are stored in the form of key-value pair.\n",
        "\n",
        "Q5) Why might you use a set instead of a list in Python?\n",
        "\n",
        "ans- Sets only store unique elements. If you try to add a duplicate, it will be ignored. Lists, on the other hand, allow duplicate elements.\n",
        "\n",
        "Q6) What is a string in Python, and how is it different from a list?\n",
        "\n",
        "ans- A string is a sequence of characters. A list a sequence of values which can be characters, integers or even another list (referred to as a nested list). A dictionary is a more general version of a list and is made up a set of keys and values where there is a mapping between a given key and its corresponding value.\n",
        "\n",
        "Q7) How do tuples ensure data integrity in Python?\n",
        "\n",
        "ans-Tuples in Python ensure data integrity primarily through their immutability. Once a tuple is created, its elements cannot be modified, added, or removed\n",
        "\n",
        "Q8) What is a hash table, and how does it relate to dictionaries in Python?\n",
        "\n",
        "ans- A hash table is a data structure that stores key-value pairs. It uses a hash function to compute an index for each key, which is then used to store the value. This allows for fast access to the value given its key.\n",
        "\n",
        "Q9) Can lists contain different data types in Python?\n",
        "\n",
        "ans-Yes, lists in Python can contain elements of different data types. This means a single list can hold a combination of integers, floats, strings, booleans, and even other complex data structures like lists, tuples, or dictionaries.\n",
        "\n",
        "Q10) Explain why strings are immutable in Python?\n",
        "\n",
        "ans-In Python, strings are immutable, meaning their values cannot be altered after creation\n",
        "\n",
        "Q11) What advantages do dictionaries offer over lists for certain tasks?\n",
        "\n",
        "ans-Dictionaries excel in scenarios requiring fast lookups, key-value associations, and complex data mappings, while lists are ideal for ordered collections, sequential processing, and simple data storage.\n",
        "\n",
        "Q12)Describe a scenario where using a tuple would be preferable over a list\n",
        "\n",
        "ans-If you want the data in your collection to be read-only, never to change, and always remain the same and constant.\n",
        "\n",
        "Q13) How do sets handle duplicate values in Python?\n",
        "\n",
        "ans-In Python, sets are designed to store only unique elements. When you attempt to add a duplicate value to a set, it is automatically ignored.\n",
        "\n",
        "Q14) How does the “in” keyword work differently for lists and dictionaries?\n",
        "\n",
        "ans-The in operation for the dictionary tests on keys. The key of the dictionary is a unique value as well as the set, and the execution time is about the same as for sets. On the other hand, dictionary values can be duplicated like a list"
      ],
      "metadata": {
        "id": "WdlS3GBEbcDa"
      }
    },
    {
      "cell_type": "markdown",
      "source": [
        "Q15) Can you modify the elements of a tuple? Explain why or why not?\n",
        "\n",
        "ans- No,we can't modify the elements of tuple.Tuple come under immutable types so it can't be modidfied.\n",
        "\n",
        "Q16) What is a nested dictionary, and give an example of its use case?\n",
        "\n",
        "ans-A nested dictionary in Python is a dictionary where the values are themselves dictionaries.\n",
        "\n",
        "Ex-\n",
        "employees = {\n",
        "    \"department1\": {\n",
        "        \"employee1\": {\"name\": \"Alice\", \"position\": \"Software Engineer\"},\n",
        "        \"employee2\": {\"name\": \"Bob\", \"position\": \"Data Analyst\"}\n",
        "    },\n",
        "    \"department2\": {\n",
        "        \"employee3\": {\"name\": \"Charlie\", \"position\": \"Project Manager\"},\n",
        "        \"employee4\": {\"name\": \"David\", \"position\": \"UI/UX Designer\"}\n",
        "    }\n",
        "}\n",
        "\n",
        "Q17) Describe the time complexity of accessing elements in a dictionary?\n",
        "\n",
        "ans-Accessing an element in a dictionary typically has an average time complexity of O(1), meaning it takes constant time regardless of the dictionary's size. This is due to the use of a hash table, which allows for direct lookup of elements based on their key.\n",
        "\n",
        "Q18)In what situations are lists preferred over dictionaries?\n",
        "\n",
        "ans-For ordered collections and sequence operations, such as maintaining a stack or queue, lists are more suitable.\n",
        "\n",
        "Q19) Why are dictionaries considered unordered, and how does that affect data retrieval?\n",
        "\n",
        "ans-Dictionary is a data structure which is a important value structure, optimized for fast storage and recovery based on key. In python, dictionaries are un-ordered because Python dictionaries are not intended to be in order.\n",
        "\n",
        "Q20) Explain the difference between a list and a dictionary in terms of data retrieval.\n",
        "\n",
        "ans-lists are accessed by index, while dictionaries are accessed by key. This means that to retrieve a specific element from a list, you use its numerical position (starting from 0), whereas for a dictionary, you use the associated key to find the corresponding value."
      ],
      "metadata": {
        "id": "FnXjifdvlpx5"
      }
    },
    {
      "cell_type": "code",
      "source": [
        "#1 Write a code to create a string with your name and print it\n",
        "name=input('Enter a string: ')\n",
        "print(name)"
      ],
      "metadata": {
        "colab": {
          "base_uri": "https://localhost:8080/"
        },
        "id": "GUCw6PUPpONK",
        "outputId": "b81e3781-f253-4639-c446-31dce3c1ba1b"
      },
      "execution_count": null,
      "outputs": [
        {
          "output_type": "stream",
          "name": "stdout",
          "text": [
            "Enter a string: Chirag\n",
            "Chirag\n"
          ]
        }
      ]
    },
    {
      "cell_type": "code",
      "source": [
        "#2 Write a code to find the length of the string \"Hello World\"\n",
        "string='Hello World'\n",
        "print(len(string))"
      ],
      "metadata": {
        "colab": {
          "base_uri": "https://localhost:8080/"
        },
        "id": "8dMYS3CWp3Bq",
        "outputId": "42661a28-f569-4192-dd6d-43e5ea0daf82"
      },
      "execution_count": null,
      "outputs": [
        {
          "output_type": "stream",
          "name": "stdout",
          "text": [
            "11\n"
          ]
        }
      ]
    },
    {
      "cell_type": "code",
      "source": [
        "#3 Write a code to slice the first 3 characters from the string \"Python Programming\"\n",
        "string='Python Programming'\n",
        "print(string[0:3])"
      ],
      "metadata": {
        "colab": {
          "base_uri": "https://localhost:8080/"
        },
        "id": "WJoh7D-Vp8gS",
        "outputId": "2a5c8745-3491-4665-b453-c43a3be4083e"
      },
      "execution_count": null,
      "outputs": [
        {
          "output_type": "stream",
          "name": "stdout",
          "text": [
            "Pyt\n"
          ]
        }
      ]
    },
    {
      "cell_type": "code",
      "source": [
        "#4 Write a code to convert the string \"hello\" to uppercase\n",
        "string='hello'\n",
        "print(string.upper())"
      ],
      "metadata": {
        "colab": {
          "base_uri": "https://localhost:8080/"
        },
        "id": "eMX3MUEzqHva",
        "outputId": "1b0bf155-04ed-41f5-f619-461c3e68ba87"
      },
      "execution_count": null,
      "outputs": [
        {
          "output_type": "stream",
          "name": "stdout",
          "text": [
            "HELLO\n"
          ]
        }
      ]
    },
    {
      "cell_type": "code",
      "source": [
        "#5 Write a code to replace the word \"apple\" with \"orange\" in the string \"I like apple\"\n",
        "string='I like apple'\n",
        "print(string.replace('apple','orange'))"
      ],
      "metadata": {
        "colab": {
          "base_uri": "https://localhost:8080/"
        },
        "id": "cobBSBruqO_H",
        "outputId": "ae7d08b4-7267-4b86-e835-87ad43093786"
      },
      "execution_count": null,
      "outputs": [
        {
          "output_type": "stream",
          "name": "stdout",
          "text": [
            "I like orange\n"
          ]
        }
      ]
    },
    {
      "cell_type": "code",
      "source": [
        "#6 Write a code to create a list with numbers 1 to 5 and print it\n",
        "list=[1,2,3,4,5]\n",
        "print(list)"
      ],
      "metadata": {
        "colab": {
          "base_uri": "https://localhost:8080/"
        },
        "id": "Yun-SKVEqX66",
        "outputId": "5aece376-f091-4427-8c92-3474a99a5b80"
      },
      "execution_count": null,
      "outputs": [
        {
          "output_type": "stream",
          "name": "stdout",
          "text": [
            "[1, 2, 3, 4, 5]\n"
          ]
        }
      ]
    },
    {
      "cell_type": "code",
      "source": [
        "#7 Write a code to append the number 10 to the list [1, 2, 3, 4]\n",
        "list=[1,2,3,4]\n",
        "list.append(10)\n",
        "print(list)"
      ],
      "metadata": {
        "colab": {
          "base_uri": "https://localhost:8080/"
        },
        "id": "dXQ3jFF0qkLi",
        "outputId": "7afb27be-8818-4ea1-c0c6-6e01c9141e8c"
      },
      "execution_count": null,
      "outputs": [
        {
          "output_type": "stream",
          "name": "stdout",
          "text": [
            "[1, 2, 3, 4, 10]\n"
          ]
        }
      ]
    },
    {
      "cell_type": "code",
      "source": [
        "#8 Write a code to remove the number 3 from the list [1, 2, 3, 4, 5]\n",
        "list=[1,2,3,4,5]\n",
        "list.pop(2)\n",
        "print(list)\n"
      ],
      "metadata": {
        "colab": {
          "base_uri": "https://localhost:8080/"
        },
        "id": "L3p4RGrRqtpM",
        "outputId": "79d10c44-efd0-48ce-e97e-64c23ec07730"
      },
      "execution_count": null,
      "outputs": [
        {
          "output_type": "stream",
          "name": "stdout",
          "text": [
            "[1, 2, 4, 5]\n"
          ]
        }
      ]
    },
    {
      "cell_type": "code",
      "source": [
        "#9 Write a code to access the second element in the list ['a', 'b', 'c', 'd']\n",
        "list=['a','b','c','d']\n",
        "print(list[1])"
      ],
      "metadata": {
        "colab": {
          "base_uri": "https://localhost:8080/"
        },
        "id": "g2G70p28rE7i",
        "outputId": "e01d18d1-f324-4011-a203-885aafe19cc3"
      },
      "execution_count": null,
      "outputs": [
        {
          "output_type": "stream",
          "name": "stdout",
          "text": [
            "b\n"
          ]
        }
      ]
    },
    {
      "cell_type": "code",
      "source": [
        "#10 Write a code to reverse the list [10, 20, 30, 40, 50].\n",
        "my_list=[10,20,30,40,50]\n",
        "my_list.reverse()\n",
        "print(my_list)\n"
      ],
      "metadata": {
        "colab": {
          "base_uri": "https://localhost:8080/"
        },
        "id": "y-d3kf4BrOqU",
        "outputId": "1896dfb6-8eb9-4a16-e62b-e33ba4c333bc"
      },
      "execution_count": null,
      "outputs": [
        {
          "output_type": "stream",
          "name": "stdout",
          "text": [
            "[50, 40, 30, 20, 10]\n"
          ]
        }
      ]
    },
    {
      "cell_type": "code",
      "source": [
        "#11 Write a code to create a tuple with the elements 100, 200, 300 and print it.\n",
        "my_tuple=(100,200,300)\n",
        "print(my_tuple)"
      ],
      "metadata": {
        "colab": {
          "base_uri": "https://localhost:8080/"
        },
        "id": "cMd8PkwWuBNm",
        "outputId": "fe9eada0-dc0d-4b17-de86-2694de0ae890"
      },
      "execution_count": null,
      "outputs": [
        {
          "output_type": "stream",
          "name": "stdout",
          "text": [
            "(100, 200, 300)\n"
          ]
        }
      ]
    },
    {
      "cell_type": "code",
      "source": [
        "#12 Write a code to access the second-to-last element of the tuple ('red', 'green', 'blue', 'yellow').\n",
        "my_tuple=('red','green','blue','yellow')\n",
        "print(my_tuple[-2])"
      ],
      "metadata": {
        "colab": {
          "base_uri": "https://localhost:8080/"
        },
        "id": "eh1NtVjQuJ6H",
        "outputId": "20a2079b-0a0e-4530-966b-c5efbb8d4c49"
      },
      "execution_count": null,
      "outputs": [
        {
          "output_type": "stream",
          "name": "stdout",
          "text": [
            "blue\n"
          ]
        }
      ]
    },
    {
      "cell_type": "code",
      "source": [
        "#13 Write a code to find the minimum number in the tuple (10, 20, 5, 15).\n",
        "my_tuple=(10,20,5,15)\n",
        "print(min(my_tuple))"
      ],
      "metadata": {
        "colab": {
          "base_uri": "https://localhost:8080/"
        },
        "id": "5zaEepCJuXut",
        "outputId": "726c58b2-39dd-433a-f980-174e42751a58"
      },
      "execution_count": null,
      "outputs": [
        {
          "output_type": "stream",
          "name": "stdout",
          "text": [
            "5\n"
          ]
        }
      ]
    },
    {
      "cell_type": "code",
      "source": [
        "#14 Write a code to find the index of the element \"cat\" in the tuple ('dog', 'cat', 'rabbit').\n",
        "my_tuple=('dog','cat','rabbit')\n",
        "print(my_tuple.index('cat'))"
      ],
      "metadata": {
        "colab": {
          "base_uri": "https://localhost:8080/"
        },
        "id": "OhOsoGGxueXe",
        "outputId": "55e6aaf1-e11a-411a-85bf-5dcb82d8375e"
      },
      "execution_count": null,
      "outputs": [
        {
          "output_type": "stream",
          "name": "stdout",
          "text": [
            "1\n"
          ]
        }
      ]
    },
    {
      "cell_type": "code",
      "source": [
        "#15 Write a code to create a tuple containing three different fruits and check if \"kiwi\" is in it.\n",
        "my_tuple=('apple','mango','banana')\n",
        "if 'kiwi' in my_tuple:\n",
        "    print('kiwi is present')\n",
        "else:\n",
        "    print('kiwi is not present')"
      ],
      "metadata": {
        "colab": {
          "base_uri": "https://localhost:8080/"
        },
        "id": "2dqbQnbku2MF",
        "outputId": "f92dd70a-7044-46c6-ec30-eb64fe9b2923"
      },
      "execution_count": null,
      "outputs": [
        {
          "output_type": "stream",
          "name": "stdout",
          "text": [
            "kiwi is not present\n"
          ]
        }
      ]
    },
    {
      "cell_type": "code",
      "source": [
        "#16 Write a code to create a set with the elements 'a', 'b', 'c' and print it.\n",
        "my_set={'a','b','c'}\n",
        "print(my_set)"
      ],
      "metadata": {
        "colab": {
          "base_uri": "https://localhost:8080/"
        },
        "id": "WtgfiJvFvMVw",
        "outputId": "a76db74f-8cc8-4616-8258-a0f67444cd7c"
      },
      "execution_count": null,
      "outputs": [
        {
          "output_type": "stream",
          "name": "stdout",
          "text": [
            "{'c', 'a', 'b'}\n"
          ]
        }
      ]
    },
    {
      "cell_type": "code",
      "source": [
        "#17 Write a code to clear all elements from the set {1, 2, 3, 4, 5}.\n",
        "my_set={1,2,3,4,5}\n",
        "my_set.clear()\n",
        "print(my_set)"
      ],
      "metadata": {
        "colab": {
          "base_uri": "https://localhost:8080/"
        },
        "id": "iDhUrxudvUED",
        "outputId": "b5c05846-cbae-4274-98f2-fbdae6e14ff7"
      },
      "execution_count": null,
      "outputs": [
        {
          "output_type": "stream",
          "name": "stdout",
          "text": [
            "set()\n"
          ]
        }
      ]
    },
    {
      "cell_type": "code",
      "source": [
        "#18 Write a code to remove the element 4 from the set {1, 2, 3, 4}.\n",
        "my_set={1,2,3,4}\n",
        "my_set.remove(4)\n",
        "print(my_set)"
      ],
      "metadata": {
        "colab": {
          "base_uri": "https://localhost:8080/"
        },
        "id": "nzNjmUbAvbf2",
        "outputId": "c8037f83-0074-4896-90c3-6af29024eded"
      },
      "execution_count": null,
      "outputs": [
        {
          "output_type": "stream",
          "name": "stdout",
          "text": [
            "{1, 2, 3}\n"
          ]
        }
      ]
    },
    {
      "cell_type": "code",
      "source": [
        "#19 Write a code to find the union of two sets {1, 2, 3} and {3, 4, 5}.\n",
        "set1 = {1, 2, 3}\n",
        "set2 = {3, 4, 5}\n",
        "union_set = set1.union(set2)\n",
        "print(\"Union of the sets:\", union_set)\n"
      ],
      "metadata": {
        "colab": {
          "base_uri": "https://localhost:8080/"
        },
        "id": "ZnFHofuyvo_b",
        "outputId": "7466957f-70a4-4a31-d972-8b7ba33df29e"
      },
      "execution_count": null,
      "outputs": [
        {
          "output_type": "stream",
          "name": "stdout",
          "text": [
            "Union of the sets: {1, 2, 3, 4, 5}\n"
          ]
        }
      ]
    },
    {
      "cell_type": "code",
      "source": [
        "#20 Write a code to find the intersection of two sets {1, 2, 3} and {2, 3, 4}.\n",
        "set1 = {1, 2, 3}\n",
        "set2 = {2, 3, 4}\n",
        "intersection_set = set1.intersection(set2)\n",
        "print(\"Intersection of the sets:\", intersection_set)"
      ],
      "metadata": {
        "colab": {
          "base_uri": "https://localhost:8080/"
        },
        "id": "U5DJtSMewDik",
        "outputId": "b87797cd-ddf8-446f-e17e-eff2eb9ab369"
      },
      "execution_count": null,
      "outputs": [
        {
          "output_type": "stream",
          "name": "stdout",
          "text": [
            "Intersection of the sets: {2, 3}\n"
          ]
        }
      ]
    },
    {
      "cell_type": "code",
      "source": [
        "#21 Write a code to create a dictionary with the keys \"name\", \"age\", and \"city\", and print it.\n",
        "my_dict={'name':'John','age':25,'city':'New York'}\n",
        "print(my_dict)\n"
      ],
      "metadata": {
        "colab": {
          "base_uri": "https://localhost:8080/"
        },
        "id": "IlRwGlTqwNAs",
        "outputId": "40b4a6a5-b9c4-40d6-bda8-2c382f7a9486"
      },
      "execution_count": null,
      "outputs": [
        {
          "output_type": "stream",
          "name": "stdout",
          "text": [
            "{'name': 'John', 'age': 25, 'city': 'New York'}\n"
          ]
        }
      ]
    },
    {
      "cell_type": "code",
      "source": [
        "#22 Write a code to add a new key-value pair \"country\": \"USA\" to the dictionary {'name': 'John', 'age': 25}.\n",
        "my_dict={'name':'John','age':25}\n",
        "my_dict['country']='USA'\n",
        "print(my_dict)"
      ],
      "metadata": {
        "colab": {
          "base_uri": "https://localhost:8080/"
        },
        "id": "htwatdMwwb9t",
        "outputId": "4e89912f-c959-4b58-c971-b5f98f44736a"
      },
      "execution_count": null,
      "outputs": [
        {
          "output_type": "stream",
          "name": "stdout",
          "text": [
            "{'name': 'John', 'age': 25, 'country': 'USA'}\n"
          ]
        }
      ]
    },
    {
      "cell_type": "code",
      "source": [
        "#23 Write a code to access the value associated with the key \"name\" in the dictionary {'name': 'Alice', 'age': 30}.\n",
        "my_dict={'name':'Alice','age':30}\n",
        "print(my_dict.get('name'))"
      ],
      "metadata": {
        "colab": {
          "base_uri": "https://localhost:8080/"
        },
        "id": "TwI3Xj5fwkP_",
        "outputId": "fbf8cc90-00f0-4ad8-ab75-47464d1ef94d"
      },
      "execution_count": null,
      "outputs": [
        {
          "output_type": "stream",
          "name": "stdout",
          "text": [
            "Alice\n"
          ]
        }
      ]
    },
    {
      "cell_type": "code",
      "source": [
        "#24 Write a code to remove the key \"age\" from the dictionary {'name': 'Bob', 'age': 22, 'city': 'New York'}.\n",
        "my_dict={'name':'Bob','age':22,'city':'New York'}\n",
        "my_dict.pop('age')\n",
        "print(my_dict)"
      ],
      "metadata": {
        "colab": {
          "base_uri": "https://localhost:8080/"
        },
        "id": "2lnM-cqdwxdU",
        "outputId": "37d6ef16-d4e1-4096-be99-9348e53dfcd7"
      },
      "execution_count": null,
      "outputs": [
        {
          "output_type": "stream",
          "name": "stdout",
          "text": [
            "{'name': 'Bob', 'city': 'New York'}\n"
          ]
        }
      ]
    },
    {
      "cell_type": "code",
      "source": [
        "#25 Write a code to check if the key \"city\" exists in the dictionary {'name': 'Alice', 'city': 'Paris'}.\n",
        "my_dict={'name':'Alice','city':'Paris'}\n",
        "if 'city' in my_dict:\n",
        "    print('city is present')\n",
        "else:\n",
        "    print('city is not present')"
      ],
      "metadata": {
        "colab": {
          "base_uri": "https://localhost:8080/"
        },
        "id": "W5_doAllw5iN",
        "outputId": "e25cf7aa-cac8-4d3d-cc2e-4eb19a0357a0"
      },
      "execution_count": null,
      "outputs": [
        {
          "output_type": "stream",
          "name": "stdout",
          "text": [
            "city is present\n"
          ]
        }
      ]
    },
    {
      "cell_type": "code",
      "source": [
        "#26 Write a code to create a list, a tuple, and a dictionary, and print them all.\n",
        "my_list=[1,2,3,4]\n",
        "my_tuple=(1,2,3,4)\n",
        "my_dict={'name':'John','age':25}\n",
        "print(my_list)\n",
        "print(my_tuple)\n",
        "print(my_dict)"
      ],
      "metadata": {
        "colab": {
          "base_uri": "https://localhost:8080/"
        },
        "id": "G7dYV2eSxCGw",
        "outputId": "08f2a25d-958a-42ab-8b99-068e5562102a"
      },
      "execution_count": null,
      "outputs": [
        {
          "output_type": "stream",
          "name": "stdout",
          "text": [
            "[1, 2, 3, 4]\n",
            "(1, 2, 3, 4)\n",
            "{'name': 'John', 'age': 25}\n"
          ]
        }
      ]
    },
    {
      "cell_type": "code",
      "source": [
        "#27 Write a code to create a list of 5 random numbers between 1 and 100, sort it in ascending order, and print the result\n",
        "import random\n",
        "random_list = random.sample(range(1, 101), 5)\n",
        "random_list.sort()\n",
        "print(\"Sorted list:\", random_list)\n"
      ],
      "metadata": {
        "colab": {
          "base_uri": "https://localhost:8080/"
        },
        "id": "jPW7SjWRxNXx",
        "outputId": "f6792346-dda1-41c7-fdf7-a2b8cf76c0a5"
      },
      "execution_count": null,
      "outputs": [
        {
          "output_type": "stream",
          "name": "stdout",
          "text": [
            "Sorted list: [1, 23, 44, 59, 76]\n"
          ]
        }
      ]
    },
    {
      "cell_type": "code",
      "source": [
        "#28 Write a code to create a list with strings and print the element at the third index.\n",
        "my_list=['apple','banana','mango','orange']\n",
        "print(my_list[2])"
      ],
      "metadata": {
        "colab": {
          "base_uri": "https://localhost:8080/"
        },
        "id": "MUpdO5dgx6iG",
        "outputId": "3b15923d-5d66-45e9-c8fc-491bf911d875"
      },
      "execution_count": null,
      "outputs": [
        {
          "output_type": "stream",
          "name": "stdout",
          "text": [
            "mango\n"
          ]
        }
      ]
    },
    {
      "cell_type": "code",
      "source": [
        "#29 Write a code to combine two dictionaries into one and print the result.\n",
        "dict1 = {'a': 1, 'b': 2}\n",
        "dict2 = {'c': 3, 'd': 4}\n",
        "\n",
        "# Copy dict1 to avoid modifying the original\n",
        "combined_dict = dict1.copy()\n",
        "combined_dict.update(dict2)\n",
        "\n",
        "print(\"Combined dictionary:\", combined_dict)\n"
      ],
      "metadata": {
        "colab": {
          "base_uri": "https://localhost:8080/"
        },
        "id": "lIKEcdTFyCav",
        "outputId": "c3f3d10e-66e1-4ae7-c423-21d54a32429d"
      },
      "execution_count": null,
      "outputs": [
        {
          "output_type": "stream",
          "name": "stdout",
          "text": [
            "Combined dictionary: {'a': 1, 'b': 2, 'c': 3, 'd': 4}\n"
          ]
        }
      ]
    },
    {
      "cell_type": "code",
      "source": [
        "#30 Write a code to convert a list of strings into a set.\n",
        "string_list = [\"apple\", \"banana\", \"cherry\", \"apple\", \"banana\"]\n",
        "string_set = set(string_list)\n",
        "print(\"Set of strings:\", string_set)\n"
      ],
      "metadata": {
        "colab": {
          "base_uri": "https://localhost:8080/"
        },
        "id": "CEaDIWmQyT3H",
        "outputId": "578628ee-85ef-4a28-9f28-d0f6d93e16da"
      },
      "execution_count": null,
      "outputs": [
        {
          "output_type": "stream",
          "name": "stdout",
          "text": [
            "Set of strings: {'banana', 'apple', 'cherry'}\n"
          ]
        }
      ]
    }
  ]
}